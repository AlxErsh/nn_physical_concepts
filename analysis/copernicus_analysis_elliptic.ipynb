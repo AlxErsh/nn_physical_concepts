{
 "cells": [
  {
   "cell_type": "code",
   "execution_count": 1,
   "metadata": {},
   "outputs": [],
   "source": [
    "work_dir = \"/home/alex/study/nn_physical_concepts/\"\n",
    "\n",
    "import os\n",
    "import sys\n",
    "os.chdir(work_dir)\n",
    "sys.path.append(work_dir)"
   ]
  },
  {
   "cell_type": "code",
   "execution_count": 2,
   "metadata": {},
   "outputs": [
    {
     "name": "stderr",
     "output_type": "stream",
     "text": [
      "/home/alex/anaconda3/envs/default-env/lib/python3.7/site-packages/tensorflow/python/framework/dtypes.py:526: FutureWarning: Passing (type, 1) or '1type' as a synonym of type is deprecated; in a future version of numpy, it will be understood as (type, (1,)) / '(1,)type'.\n",
      "  _np_qint8 = np.dtype([(\"qint8\", np.int8, 1)])\n",
      "/home/alex/anaconda3/envs/default-env/lib/python3.7/site-packages/tensorflow/python/framework/dtypes.py:527: FutureWarning: Passing (type, 1) or '1type' as a synonym of type is deprecated; in a future version of numpy, it will be understood as (type, (1,)) / '(1,)type'.\n",
      "  _np_quint8 = np.dtype([(\"quint8\", np.uint8, 1)])\n",
      "/home/alex/anaconda3/envs/default-env/lib/python3.7/site-packages/tensorflow/python/framework/dtypes.py:528: FutureWarning: Passing (type, 1) or '1type' as a synonym of type is deprecated; in a future version of numpy, it will be understood as (type, (1,)) / '(1,)type'.\n",
      "  _np_qint16 = np.dtype([(\"qint16\", np.int16, 1)])\n",
      "/home/alex/anaconda3/envs/default-env/lib/python3.7/site-packages/tensorflow/python/framework/dtypes.py:529: FutureWarning: Passing (type, 1) or '1type' as a synonym of type is deprecated; in a future version of numpy, it will be understood as (type, (1,)) / '(1,)type'.\n",
      "  _np_quint16 = np.dtype([(\"quint16\", np.uint16, 1)])\n",
      "/home/alex/anaconda3/envs/default-env/lib/python3.7/site-packages/tensorflow/python/framework/dtypes.py:530: FutureWarning: Passing (type, 1) or '1type' as a synonym of type is deprecated; in a future version of numpy, it will be understood as (type, (1,)) / '(1,)type'.\n",
      "  _np_qint32 = np.dtype([(\"qint32\", np.int32, 1)])\n",
      "/home/alex/anaconda3/envs/default-env/lib/python3.7/site-packages/tensorflow/python/framework/dtypes.py:535: FutureWarning: Passing (type, 1) or '1type' as a synonym of type is deprecated; in a future version of numpy, it will be understood as (type, (1,)) / '(1,)type'.\n",
      "  np_resource = np.dtype([(\"resource\", np.ubyte, 1)])\n"
     ]
    }
   ],
   "source": [
    "import numpy as np\n",
    "import matplotlib.pyplot as plt\n",
    "from mpl_toolkits.mplot3d import Axes3D\n",
    "from matplotlib import cm\n",
    "from scinet import *\n",
    "import scinet as sc\n",
    "import scinet.ed_copernicus_elliptic as edc\n",
    "import scinet.model as model"
   ]
  },
  {
   "cell_type": "markdown",
   "metadata": {},
   "source": [
    "### Plotting"
   ]
  },
  {
   "cell_type": "code",
   "execution_count": 3,
   "metadata": {
    "collapsed": true
   },
   "outputs": [],
   "source": [
    "def fix_jumps(theta_M):\n",
    "    \"\"\"\n",
    "    Fixes jumps that arise because theta_M is always between -pi and pi\n",
    "    \"\"\"\n",
    "    while True:\n",
    "        diff = np.abs(theta_M[:, 1:] - theta_M[:, :-1])\n",
    "        jumps = np.array(np.where(diff > 1.)).T\n",
    "        if len(jumps) == 0:\n",
    "            break\n",
    "        fixed_lines = []\n",
    "        for x, y in jumps:\n",
    "            if x in fixed_lines:\n",
    "                continue\n",
    "            else:\n",
    "                fixed_lines.append(x)\n",
    "            theta_M[x, y + 1:] = theta_M[x, y + 1:] - np.sign(theta_M[x, y + 1] - theta_M[x, y]) * 2 * np.pi\n",
    "    return theta_M"
   ]
  },
  {
   "cell_type": "code",
   "execution_count": 4,
   "metadata": {
    "collapsed": true
   },
   "outputs": [],
   "source": [
    "def copernicus_latent_neurons(net, series_length=50, delta_t=25, steps=50):\n",
    "    layer = net.state_means\n",
    "    T_earth = 365.26   \n",
    "    T_mars = 686.97959\n",
    "    # the variable eps removes a small window from the plot, such that the discontinuity is not shown\n",
    "    eps = 0.1\n",
    "    ss = np.linspace(- T_earth/2 + eps, T_earth/2 - eps, num=steps)\n",
    "    mm = np.linspace(- T_mars/2 + eps, T_mars/2 - eps, num=steps)\n",
    "    S, M = np.meshgrid(ss, mm)\n",
    "    data = edc.copernicus_data(series_length, delta_t=delta_t, t_earth_target=np.ravel(S), t_mars_target=np.ravel(M))[0]\n",
    "    fig = plt.figure(figsize=(6.0, 2.8))\n",
    "    fig.tight_layout()\n",
    "    out = np.array(net.run(data, layer))\n",
    "    for i in range(len(out[0])):\n",
    "        zs = out[:, i]\n",
    "        ax = fig.add_subplot('12{}'.format(i+1), projection='3d')\n",
    "        ax.view_init(20, 60)\n",
    "        Z = np.reshape(zs, S.shape)\n",
    "        surf = ax.plot_surface(S, M, Z, rstride=1, cstride=1, cmap=cm.inferno, linewidth=0)\n",
    "        ax.set_xlabel(r'$M_E$')\n",
    "        ax.set_ylabel(r'$M_M$')\n",
    "        ax.set_zlabel('Latent activation {}'.format(i + 1))\n",
    "        ax.set_xticks([- T_earth/2.+ eps, 0, T_earth/2.- eps])\n",
    "        ax.set_yticks([- T_mars/2.+ eps,0, T_mars/2- eps])\n",
    "        ax.set_xticklabels(['$-\\pi$', r'0', r'$\\pi$'])\n",
    "        ax.set_yticklabels(['$-\\pi$', r'0', r'$\\pi$'])\n",
    "    return fig"
   ]
  },
  {
   "cell_type": "code",
   "execution_count": 5,
   "metadata": {
    "collapsed": true
   },
   "outputs": [],
   "source": [
    "def get_coordinates(phi, a, ecc):    \n",
    "    r = edc.get_radius(phi,a,ecc)\n",
    "    return r * np.cos(phi), r * np.sin(phi)\n",
    "\n",
    "def plot_orbits(series_length=100, delta_t = 7): \n",
    "    AU = 149597870700       \n",
    "    a_mars = 1.52366231 * AU   \n",
    "    a_earth = 1.00000011 * AU  \n",
    "    ecc_earth = 0.01671022 \n",
    "    ecc_mars = 0.09341233  \n",
    "    phi_series= edc.copernicus_data(series_length, 1, delta_t = delta_t)[1][0]\n",
    "    x_earth = [get_coordinates(phi_series[i][0], a_earth, ecc_earth)[0] for i in range(len(phi_series))]\n",
    "    y_earth = [get_coordinates(phi_series[i][0], a_earth, ecc_earth)[1] for i in range(len(phi_series))]\n",
    "    x_mars = [get_coordinates(phi_series[i][1], a_mars, ecc_mars)[0] for i in range(len(phi_series))]\n",
    "    y_mars = [get_coordinates(phi_series[i][1], a_mars, ecc_mars)[1] for i in range(len(phi_series))]\n",
    "    f, ax = plt.subplots(figsize=(6.0, 6.0))\n",
    "    ax.plot(x_earth,y_earth)\n",
    "    ax.plot(x_mars,y_mars)\n",
    "    ax.set_xlabel(r'$x$ [m]')\n",
    "    ax.set_ylabel(r'$y$ [m]')\n",
    "    \n",
    "def plot_velocity_mars(series_length=100, delta_t=7):\n",
    "    AU = 149597870700       \n",
    "    a_mars = 1.52366231 * AU     \n",
    "    ecc_mars = 0.09341233   \n",
    "    phi_series= edc.copernicus_data(series_length, 1, delta_t = delta_t)[1][0]\n",
    "    phi_mars = [phi_series[i][1] for i in range(len(phi_series)-1)]\n",
    "    dx_mars = [get_coordinates(phi_series[i+1][1], a_mars, ecc_mars)[0] - get_coordinates(phi_series[i][1], a_mars, ecc_mars)[0] for i in range(len(phi_series)-1)]\n",
    "    dy_mars = [get_coordinates(phi_series[i+1][1], a_mars, ecc_mars)[1] - get_coordinates(phi_series[i][1], a_mars, ecc_mars)[1] for i in range(len(phi_series)-1)]\n",
    "    v_mars = [(dx_mars[i] ** 2 + dy_mars[i] ** 2)**(1./2)/(delta_t*24.*3600.) for i in range(len(phi_series)-1)]\n",
    "    f, ax = plt.subplots(figsize=(6.0, 6.0))\n",
    "    ax.plot(phi_mars,v_mars)\n",
    "    ax.set_xlabel(r'true anomaly [rad]')\n",
    "    ax.set_ylabel(r'velocity [m/s]')"
   ]
  },
  {
   "cell_type": "markdown",
   "metadata": {},
   "source": [
    "## Load pre-trained model\n",
    "\n",
    "### Parameters\n",
    "- `latent_size: 2`\n",
    "- `input_size: 1` \n",
    "- `output_size: 2`\n",
    "- other parameters: default values\n",
    "### Data\n",
    "- Training data: 95000 samples with `delta_t: 25`\n",
    "- Validation data: 5000 samples with `delta_t: 25`\n",
    "\n",
    "### Training\n",
    "1. 2000 epochs with `batch_size: 256`, `learning_rate: 1e-3`, `beta: 0.005`, `euler_l2_coeff: 1`, `time_series_length: 20`\n",
    "2. 1000 epochs with `batch_size: 1024`, `learning_rate: 1e-3`, `beta: 0.005`, `euler_l2_coeff: 1`, `time_series_length: 50`\n",
    "3. 250 epochs with `batch_size: 1024`, `learning_rate: 3e-3`, `beta: 0.01`, `euler_l2_coeff: 1`, `time_series_length: 50`\n",
    "4. 750 epochs with `batch_size: 250`, `learning_rate: 3e-3`, `beta: 0.01`, `euler_l2_coeff: 1`, `time_series_length: 50`\n",
    "5. 1000 epochs with `batch_size: 1024`, `learning_rate: .5e-3`, `beta: 0.005`, `euler_l2_coeff: 1`, `time_series_length: 50`"
   ]
  },
  {
   "cell_type": "code",
   "execution_count": 6,
   "metadata": {},
   "outputs": [
    {
     "name": "stdout",
     "output_type": "stream",
     "text": [
      "{'decoder_num_units': [100, 100], 'time_series_length': 50, 'tot_epochs': 5001, 'latent_size': 2, 'output_size': 2, 'encoder_num_units': [100, 100], 'euler_num_units': [], 'input_size': 1, 'name': 'net_copernicus_elliptic_20', 'load_file': 'copernicus_elliptic'}\n",
      "WARNING:tensorflow:From /home/alex/anaconda3/envs/default-env/lib/python3.7/site-packages/tensorflow/python/framework/op_def_library.py:263: colocate_with (from tensorflow.python.framework.ops) is deprecated and will be removed in a future version.\n",
      "Instructions for updating:\n",
      "Colocations handled automatically by placer.\n",
      "WARNING:tensorflow:From /home/alex/anaconda3/envs/default-env/lib/python3.7/site-packages/tensorflow/python/ops/math_ops.py:3066: to_int32 (from tensorflow.python.ops.math_ops) is deprecated and will be removed in a future version.\n",
      "Instructions for updating:\n",
      "Use tf.cast instead.\n",
      "WARNING:tensorflow:From /home/alex/anaconda3/envs/default-env/lib/python3.7/site-packages/tensorflow/python/training/saver.py:1266: checkpoint_exists (from tensorflow.python.training.checkpoint_management) is deprecated and will be removed in a future version.\n",
      "Instructions for updating:\n",
      "Use standard file APIs to check for files with this prefix.\n",
      "INFO:tensorflow:Restoring parameters from ./tf_save/copernicus_elliptic.ckpt\n",
      "Loaded network from file copernicus_elliptic\n"
     ]
    }
   ],
   "source": [
    "net = nn.Network.from_saved('copernicus_elliptic')"
   ]
  },
  {
   "cell_type": "markdown",
   "metadata": {},
   "source": [
    "## Plot elliptical orbits and velocity of Mars"
   ]
  },
  {
   "cell_type": "code",
   "execution_count": 8,
   "metadata": {
    "collapsed": true
   },
   "outputs": [
    {
     "data": {
      "image/png": "[encoded data removed]",
      "text/plain": [
       "<Figure size 432x432 with 1 Axes>"
      ]
     },
     "metadata": {
      "needs_background": "light"
     },
     "output_type": "display_data"
    }
   ],
   "source": [
    "import matplotlib\n",
    "matplotlib.use('TKAgg')\n",
    "\n",
    "plot_velocity_mars()"
   ]
  },
  {
   "cell_type": "markdown",
   "metadata": {},
   "source": [
    "## Plot of latent activations"
   ]
  },
  {
   "cell_type": "code",
   "execution_count": null,
   "metadata": {
    "collapsed": true
   },
   "outputs": [],
   "source": [
    "# The mean anomalies M_E and M_M of Earth and Mars, respectively.\n",
    "import matplotlib\n",
    "matplotlib.use('TKAgg')\n",
    "\n",
    "fig = copernicus_latent_neurons(net,series_length = 50)"
   ]
  },
  {
   "cell_type": "markdown",
   "metadata": {},
   "source": [
    "### Calculate L2-norm of error"
   ]
  },
  {
   "cell_type": "code",
   "execution_count": null,
   "metadata": {
    "collapsed": true
   },
   "outputs": [],
   "source": [
    "data, states = edc.copernicus_data(50, 50000)"
   ]
  },
  {
   "cell_type": "code",
   "execution_count": null,
   "metadata": {
    "collapsed": true
   },
   "outputs": [],
   "source": [
    "np.sqrt(net.run(data, net.recon_loss))"
   ]
  }
 ],
 "metadata": {
  "anaconda-cloud": {},
  "kernelspec": {
   "display_name": "default-env",
   "language": "python",
   "name": "python3"
  },
  "language_info": {
   "codemirror_mode": {
    "name": "ipython",
    "version": 3
   },
   "file_extension": ".py",
   "mimetype": "text/x-python",
   "name": "python",
   "nbconvert_exporter": "python",
   "pygments_lexer": "ipython3",
   "version": "3.7.5"
  }
 },
 "nbformat": 4,
 "nbformat_minor": 2
}
