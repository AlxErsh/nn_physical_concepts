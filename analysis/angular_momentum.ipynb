{
 "cells": [
  {
   "cell_type": "code",
   "execution_count": null,
   "metadata": {},
   "outputs": [],
   "source": [
    "import numpy as np\n",
    "import matplotlib.pyplot as plt\n",
    "from mpl_toolkits.mplot3d import Axes3D\n",
    "from matplotlib import cm\n",
    "from scinet import *\n",
    "import scinet.ed_collision as edc"
   ]
  },
  {
   "cell_type": "markdown",
   "metadata": {},
   "source": [
    "### Plotting functions"
   ]
  },
  {
   "cell_type": "code",
   "execution_count": null,
   "metadata": {},
   "outputs": [],
   "source": [
    " # Plot the activation of the latent neuron against the total angular momentum. The input data is of the same form as the training/validation data and the corresponding states\n",
    "def plot_state_neuron_wrt_angular_momentum(nn,data,data_states):\n",
    "    total_angular_momentum=edc.total_ang_mom(data_states[:,2],data_states[:,5])\n",
    "    out = nn.run(data, nn.mu, additional_params={})\n",
    "    f=plt.figure(figsize=(3.4, 2.1))\n",
    "    blue_color = '#000cff'\n",
    "    plt.scatter(total_angular_momentum,out.flatten(),1,color=blue_color)\n",
    "    plt.xlabel('Total angular momentum [kg$\\,$m$^2$/s]')\n",
    "    plt.ylabel('Activation latent neuron')\n",
    "    return f\n",
    "\n",
    "# Plot the 2D physical setting for the angular momentum conservation example. The data/data_states is of the same shape as the training or validation data/data_states.\n",
    "# The situation at the ith data sample is then plotted.\n",
    "def plot_physical_setting(nn,index,data,data_states):\n",
    "    vx_in=data_states[index,2]\n",
    "    w_in=data_states[index,5]\n",
    "    vx_out=data_states[index,6]\n",
    "    input1=data[0][index]\n",
    "    input2=data[1][index]\n",
    "    # Before the collision\n",
    "    input1=input1.flatten()\n",
    "    part=input1.size / 6\n",
    "    x_in_free=input1[0:part]\n",
    "    y_in_free = input1[part:2*part]\n",
    "    x_in_rot = input1[3*part:4*part]\n",
    "    y_in_rot = input1[4 *part:5*part]\n",
    "    # After collision\n",
    "    input2 = input2.flatten()\n",
    "    part = (input2.size-1)/3\n",
    "    x_out_free = input2[0:part]\n",
    "    y_out_free = input2[part:2*part]\n",
    "    # Correct position of rotating particle\n",
    "    times=np.linspace(0,4, num=4)\n",
    "    x_out_rot_correct=[]\n",
    "    y_out_rot_correct=[]\n",
    "    for i in range(len(times)):\n",
    "        x_out_rot_correct.append(edc.generate_output(times[i], vx_out, vx_in, w_in)[0])\n",
    "        y_out_rot_correct.append(edc.generate_output(times[i], vx_out, vx_in, w_in)[1])\n",
    "    # Predicted  position of rotating particle\n",
    "    x_out_rot_pred = []\n",
    "    y_out_rot_pred = []\n",
    "    data_modified=[data[0].copy(),data[1].copy(),data[2].copy()]\n",
    "    for i in range(len(times)):\n",
    "        data_modified[1][index][-1]=times[i]\n",
    "        output = nn.run(data_modified,nn.output)[index]\n",
    "        x_out_rot_pred.append(output[0])\n",
    "        y_out_rot_pred.append(output[1])\n",
    "    # Create plot\n",
    "    blue_color = '#000cff'\n",
    "    orange_color = '#ff7700'\n",
    "    f = plt.figure()\n",
    "    ax = plt.subplot(111)\n",
    "    plt.scatter(x_in_free, y_in_free,15, color=blue_color, marker='o',label='Incoming free particle')\n",
    "    plt.scatter(x_in_rot, y_in_rot,15, color=orange_color,marker='o', label='Incoming rotating particle')\n",
    "    plt.scatter(x_out_free,y_out_free,15, color=blue_color, marker='s', label='Outgoing free particle')\n",
    "    plt.scatter(x_out_rot_correct, y_out_rot_correct,50, color=orange_color, marker='s', label='Outgoing rotating particle')\n",
    "    plt.scatter(x_out_rot_pred, y_out_rot_pred, color='k', marker='x', label='Pedictions')\n",
    "    # Shrink current axis by 40%\n",
    "    box = ax.get_position()\n",
    "    ax.set_position([box.x0, box.y0, box.width * 0.6, box.height])\n",
    "    # Put a legend to the right of the current axis\n",
    "    ax.legend(loc='center left', bbox_to_anchor=(1, 0.5))\n",
    "    plt.xlabel('x [m]')\n",
    "    plt.ylabel('y [m]')\n",
    "    plt.title('Collision experiment and predictions of the NN')\n",
    "    plt.axis([-4,4 , -2, 6])\n",
    "    return f"
   ]
  },
  {
   "cell_type": "markdown",
   "metadata": {},
   "source": [
    "## Load pre-trained model\n",
    "\n",
    "### Parameters\n",
    "- `latent_size: 1` \n",
    "- `input_size: 30`\n",
    "- `input2_size: 16`\n",
    "- `output_size: 2`\n",
    "- `encoder_num_units: [150, 100]`\n",
    "- `decoder_num_units: [100, 150]`\n",
    "- other parameters: default values\n",
    "\n",
    "### Data\n",
    "-  The masses and the radius of the rotating particle are fixed. The others are varied under the restriction that the two particle will collide at (0,1). See the data generation file ``ed_collision`` for more details. \n",
    "- N_in1 = 5 time steps for observation input, N_inp2 = 5 time steps for question input\n",
    "- training data: 490000 samples\n",
    "- validation data: 10000 samples\n",
    "\n",
    "### Training\n",
    "- `epoch_num: 100`, `batch_size: 500`, `learning_rate: 5e-4`, `beta: 0.`\n",
    "- `epoch_num: 50`, `batch_size: 500`, `learning_rate: 1e-4`, `beta: 0.`"
   ]
  },
  {
   "cell_type": "code",
   "execution_count": null,
   "metadata": {},
   "outputs": [],
   "source": [
    "net = nn.Network.from_saved('collision')"
   ]
  },
  {
   "cell_type": "code",
   "execution_count": null,
   "metadata": {},
   "outputs": [],
   "source": [
    "vd, vs, _ = edc.create_data(50000, 5, 5);"
   ]
  },
  {
   "cell_type": "markdown",
   "metadata": {},
   "source": [
    "## Plots"
   ]
  },
  {
   "cell_type": "code",
   "execution_count": null,
   "metadata": {},
   "outputs": [],
   "source": [
    "fig1 = plot_physical_setting(net, 0, vd, vs)"
   ]
  },
  {
   "cell_type": "code",
   "execution_count": null,
   "metadata": {},
   "outputs": [],
   "source": [
    "fig2 = plot_state_neuron_wrt_angular_momentum(net, vd, vs)"
   ]
  },
  {
   "cell_type": "markdown",
   "metadata": {},
   "source": [
    "## Calculate reconstruction loss"
   ]
  },
  {
   "cell_type": "code",
   "execution_count": null,
   "metadata": {},
   "outputs": [],
   "source": [
    "np.sqrt(net.run(vd, net.recon_loss))"
   ]
  },
  {
   "cell_type": "code",
   "execution_count": null,
   "metadata": {},
   "outputs": [],
   "source": []
  }
 ],
 "metadata": {
  "anaconda-cloud": {},
  "kernelspec": {
   "display_name": "Python 2",
   "language": "python",
   "name": "python2"
  },
  "language_info": {
   "codemirror_mode": {
    "name": "ipython",
    "version": 2
   },
   "file_extension": ".py",
   "mimetype": "text/x-python",
   "name": "python",
   "nbconvert_exporter": "python",
   "pygments_lexer": "ipython2",
   "version": "2.7.14"
  }
 },
 "nbformat": 4,
 "nbformat_minor": 1
}
